{
 "cells": [
  {
   "cell_type": "code",
   "execution_count": 23,
   "metadata": {},
   "outputs": [],
   "source": [
    "import numpy as np\n",
    "import matplotlib.pyplot as plt\n",
    "import os\n",
    "import cv2\n",
    "import pandas as pd"
   ]
  },
  {
   "cell_type": "code",
   "execution_count": 24,
   "metadata": {},
   "outputs": [],
   "source": [
    "def read_images():\n",
    "    training_images = []\n",
    "    i = 0\n",
    "    DIR = \"E:\\Galaxy Zoo\\Data\\images_training_rev1\\images_training_rev1\"\n",
    "    for img in os.listdir(DIR):\n",
    "        im = cv2.imread(os.path.join(DIR,img))\n",
    "        im = im[106:106*3,106:106*3,:]          #cropping 424x424->212x212\n",
    "        im = cv2.resize(im,(106,106), interpolation=cv2.INTER_CUBIC)   #downsampling to half resolution 106x106\n",
    "        training_images.append(im)\n",
    "        i+=1\n",
    "        if i==10000:\n",
    "            break\n",
    "        \n",
    "    return training_images\n",
    "    "
   ]
  },
  {
   "cell_type": "code",
   "execution_count": 25,
   "metadata": {},
   "outputs": [],
   "source": [
    "training_images = read_images()\n",
    "training_images = np.array(training_images).reshape(-1,106,106,3)"
   ]
  },
  {
   "cell_type": "code",
   "execution_count": 33,
   "metadata": {},
   "outputs": [],
   "source": [
    "X_train = training_images[:8000]\n",
    "x_test = training_images[8000:]\n",
    "df = pd.read_csv(\"training_solutions_rev1/training_solutions_rev1.csv\")\n",
    "y_train = df.drop('GalaxyID', axis = 1).values\n",
    "y_train = y_train[:10000]\n",
    "y_test = y_train[8000:10000]\n",
    "y_train = y_train[:8000]"
   ]
  },
  {
   "cell_type": "code",
   "execution_count": 27,
   "metadata": {},
   "outputs": [],
   "source": [
    "from keras.models import Sequential\n",
    "from keras.layers import Dense,Dropout,Activation,Flatten,Conv2D,MaxPooling2D,ZeroPadding2D,Lambda\n",
    "from keras.optimizers import SGD, RMSprop, Adam"
   ]
  },
  {
   "cell_type": "code",
   "execution_count": 49,
   "metadata": {
    "scrolled": false
   },
   "outputs": [],
   "source": [
    "model = Sequential()\n",
    "model.add(Lambda(lambda x : x, input_shape=(106,106,3)))\n",
    "\n",
    "model.add(ZeroPadding2D((1,1))) \n",
    "model.add(Conv2D((64), kernel_size = (3,3), input_shape = (106,106,3)))\n",
    "model.add(Activation(\"relu\"))\n",
    "\n",
    "model.add(ZeroPadding2D((1,1))) \n",
    "model.add(Conv2D((64), kernel_size = (3,3), input_shape = (106,106,3)))\n",
    "model.add(Activation(\"relu\"))\n",
    "\n",
    "model.add(ZeroPadding2D((1,1))) \n",
    "model.add(Conv2D((32), kernel_size = (3,3), input_shape = (106,106,3)))\n",
    "model.add(Activation(\"relu\"))\n",
    "model.add(MaxPooling2D(pool_size = (3,3), strides = (3,3)))\n",
    "\n",
    "model.add(Flatten())\n",
    "model.add(Dense(64))\n",
    "model.add(Activation(\"relu\"))\n",
    "model.add(Dropout(0.3))\n",
    "\n",
    "model.add(Dense(64))\n",
    "model.add(Activation(\"relu\"))\n",
    "model.add(Dropout(0.3))\n",
    "\n",
    "\n",
    "model.add(Dense(37))\n",
    "model.add(Activation(\"sigmoid\"))\n",
    "\n",
    "model.compile(optimizer = RMSprop(lr=1e-6), loss='mean_squared_error', metrics = ['accuracy'])\n"
   ]
  },
  {
   "cell_type": "code",
   "execution_count": 50,
   "metadata": {},
   "outputs": [
    {
     "name": "stdout",
     "output_type": "stream",
     "text": [
      "(8000, 37) (8000, 106, 106, 3)\n"
     ]
    }
   ],
   "source": [
    "print(y_train.shape,\n",
    "X_train.shape)"
   ]
  },
  {
   "cell_type": "code",
   "execution_count": 51,
   "metadata": {},
   "outputs": [
    {
     "name": "stdout",
     "output_type": "stream",
     "text": [
      "Epoch 1/50\n",
      "8000/8000 [==============================] - 256s 32ms/step - loss: 0.2712 - acc: 0.0371\n",
      "Epoch 2/50\n",
      "8000/8000 [==============================] - 246s 31ms/step - loss: 0.1948 - acc: 0.0429\n",
      "Epoch 3/50\n",
      "8000/8000 [==============================] - 245s 31ms/step - loss: 0.1876 - acc: 0.1343\n",
      "Epoch 4/50\n",
      "8000/8000 [==============================] - 248s 31ms/step - loss: 0.1863 - acc: 0.1313\n",
      "Epoch 5/50\n",
      "8000/8000 [==============================] - 247s 31ms/step - loss: 0.1852 - acc: 0.0944\n",
      "Epoch 6/50\n",
      "8000/8000 [==============================] - 249s 31ms/step - loss: 0.1845 - acc: 0.0912\n",
      "Epoch 7/50\n",
      "8000/8000 [==============================] - 246s 31ms/step - loss: 0.1835 - acc: 0.0711\n",
      "Epoch 8/50\n",
      "8000/8000 [==============================] - 247s 31ms/step - loss: 0.1827 - acc: 0.0561\n",
      "Epoch 9/50\n",
      "8000/8000 [==============================] - 254s 32ms/step - loss: 0.1816 - acc: 0.0570\n",
      "Epoch 10/50\n",
      "8000/8000 [==============================] - 253s 32ms/step - loss: 0.1809 - acc: 0.0434\n",
      "Epoch 11/50\n",
      "8000/8000 [==============================] - 253s 32ms/step - loss: 0.1798 - acc: 0.0450\n",
      "Epoch 12/50\n",
      "8000/8000 [==============================] - 254s 32ms/step - loss: 0.1784 - acc: 0.0325\n",
      "Epoch 13/50\n",
      "8000/8000 [==============================] - 253s 32ms/step - loss: 0.1774 - acc: 0.0251\n",
      "Epoch 14/50\n",
      "8000/8000 [==============================] - 254s 32ms/step - loss: 0.1761 - acc: 0.0209\n",
      "Epoch 15/50\n",
      "8000/8000 [==============================] - 255s 32ms/step - loss: 0.1747 - acc: 0.0205\n",
      "Epoch 16/50\n",
      "8000/8000 [==============================] - 255s 32ms/step - loss: 0.1735 - acc: 0.0133\n",
      "Epoch 17/50\n",
      "8000/8000 [==============================] - 254s 32ms/step - loss: 0.1720 - acc: 0.0121\n",
      "Epoch 18/50\n",
      "8000/8000 [==============================] - 254s 32ms/step - loss: 0.1706 - acc: 0.0111\n",
      "Epoch 19/50\n",
      "8000/8000 [==============================] - 253s 32ms/step - loss: 0.1690 - acc: 0.0091\n",
      "Epoch 20/50\n",
      "8000/8000 [==============================] - 257s 32ms/step - loss: 0.1678 - acc: 0.0082\n",
      "Epoch 21/50\n",
      "8000/8000 [==============================] - 259s 32ms/step - loss: 0.1665 - acc: 0.0055\n",
      "Epoch 22/50\n",
      "8000/8000 [==============================] - 257s 32ms/step - loss: 0.1649 - acc: 0.0072\n",
      "Epoch 23/50\n",
      "8000/8000 [==============================] - 257s 32ms/step - loss: 0.1637 - acc: 0.0077\n",
      "Epoch 24/50\n",
      "8000/8000 [==============================] - 256s 32ms/step - loss: 0.1627 - acc: 0.0080\n",
      "Epoch 25/50\n",
      "8000/8000 [==============================] - 255s 32ms/step - loss: 0.1609 - acc: 0.0056\n",
      "Epoch 26/50\n",
      "8000/8000 [==============================] - 255s 32ms/step - loss: 0.1599 - acc: 0.0055\n",
      "Epoch 27/50\n",
      "8000/8000 [==============================] - 256s 32ms/step - loss: 0.1585 - acc: 0.0069\n",
      "Epoch 28/50\n",
      "8000/8000 [==============================] - 258s 32ms/step - loss: 0.1571 - acc: 0.0085\n",
      "Epoch 29/50\n",
      "8000/8000 [==============================] - 256s 32ms/step - loss: 0.1564 - acc: 0.0077\n",
      "Epoch 30/50\n",
      "8000/8000 [==============================] - 257s 32ms/step - loss: 0.1547 - acc: 0.0090\n",
      "Epoch 31/50\n",
      "8000/8000 [==============================] - 257s 32ms/step - loss: 0.1532 - acc: 0.0074\n",
      "Epoch 32/50\n",
      "8000/8000 [==============================] - 255s 32ms/step - loss: 0.1522 - acc: 0.0091\n",
      "Epoch 33/50\n",
      "8000/8000 [==============================] - 257s 32ms/step - loss: 0.1510 - acc: 0.0080\n",
      "Epoch 34/50\n",
      "8000/8000 [==============================] - 255s 32ms/step - loss: 0.1490 - acc: 0.0118\n",
      "Epoch 35/50\n",
      "8000/8000 [==============================] - 255s 32ms/step - loss: 0.1465 - acc: 0.0120\n",
      "Epoch 36/50\n",
      "8000/8000 [==============================] - 260s 33ms/step - loss: 0.1454 - acc: 0.0135\n",
      "Epoch 37/50\n",
      "8000/8000 [==============================] - 260s 32ms/step - loss: 0.1437 - acc: 0.0135\n",
      "Epoch 38/50\n",
      "8000/8000 [==============================] - 250s 31ms/step - loss: 0.1425 - acc: 0.0145\n",
      "Epoch 39/50\n",
      "8000/8000 [==============================] - 261s 33ms/step - loss: 0.1415 - acc: 0.0122\n",
      "Epoch 40/50\n",
      "8000/8000 [==============================] - 266s 33ms/step - loss: 0.1400 - acc: 0.0140\n",
      "Epoch 41/50\n",
      "8000/8000 [==============================] - 279s 35ms/step - loss: 0.1391 - acc: 0.0176\n",
      "Epoch 42/50\n",
      "8000/8000 [==============================] - 274s 34ms/step - loss: 0.1381 - acc: 0.0159\n",
      "Epoch 43/50\n",
      "8000/8000 [==============================] - 276s 34ms/step - loss: 0.1366 - acc: 0.0161\n",
      "Epoch 44/50\n",
      "8000/8000 [==============================] - 271s 34ms/step - loss: 0.1357 - acc: 0.0174\n",
      "Epoch 45/50\n",
      "8000/8000 [==============================] - 270s 34ms/step - loss: 0.1342 - acc: 0.0214\n",
      "Epoch 46/50\n",
      "8000/8000 [==============================] - 262s 33ms/step - loss: 0.1317 - acc: 0.0323\n",
      "Epoch 47/50\n",
      "8000/8000 [==============================] - 262s 33ms/step - loss: 0.1299 - acc: 0.0369\n",
      "Epoch 48/50\n",
      "8000/8000 [==============================] - 270s 34ms/step - loss: 0.1276 - acc: 0.0414\n",
      "Epoch 49/50\n",
      "8000/8000 [==============================] - 262s 33ms/step - loss: 0.1260 - acc: 0.0414\n",
      "Epoch 50/50\n",
      "8000/8000 [==============================] - 257s 32ms/step - loss: 0.1247 - acc: 0.0418\n"
     ]
    },
    {
     "data": {
      "text/plain": [
       "<keras.callbacks.History at 0x273b5180198>"
      ]
     },
     "execution_count": 51,
     "metadata": {},
     "output_type": "execute_result"
    }
   ],
   "source": [
    "model.fit(X_train,y_train, epochs = 50)"
   ]
  },
  {
   "cell_type": "code",
   "execution_count": 53,
   "metadata": {},
   "outputs": [
    {
     "name": "stdout",
     "output_type": "stream",
     "text": [
      "2000/2000 [==============================] - 17s 8ms/step\n"
     ]
    },
    {
     "data": {
      "text/plain": [
       "[0.09136274361610412, 0.024]"
      ]
     },
     "execution_count": 53,
     "metadata": {},
     "output_type": "execute_result"
    }
   ],
   "source": [
    "model.evaluate(x_test,y_test)"
   ]
  },
  {
   "cell_type": "code",
   "execution_count": 54,
   "metadata": {},
   "outputs": [],
   "source": [
    "model.save(\"10819.model\")"
   ]
  }
 ],
 "metadata": {
  "kernelspec": {
   "display_name": "Python 3",
   "language": "python",
   "name": "python3"
  },
  "language_info": {
   "codemirror_mode": {
    "name": "ipython",
    "version": 3
   },
   "file_extension": ".py",
   "mimetype": "text/x-python",
   "name": "python",
   "nbconvert_exporter": "python",
   "pygments_lexer": "ipython3",
   "version": "3.6.8"
  }
 },
 "nbformat": 4,
 "nbformat_minor": 2
}
