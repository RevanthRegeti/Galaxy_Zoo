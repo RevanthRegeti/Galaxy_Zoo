{
 "cells": [
  {
   "cell_type": "code",
   "execution_count": null,
   "metadata": {
    "scrolled": true
   },
   "outputs": [],
   "source": [
    "import numpy as np\n",
    "import matplotlib.pyplot as plt\n",
    "import os\n",
    "import cv2\n",
    "import tensorflow as tf\n",
    "import pandas as pd\n",
    "import warnings\n",
    "warnings.filterwarnings('ignore')\n",
    "\n",
    "# confirm TensorFlow sees the GPU\n",
    "from tensorflow.python.client import device_lib\n",
    "assert 'GPU' in str(device_lib.list_local_devices())\n",
    "from tensorflow import GPUOptions, Session, ConfigProto\n",
    "\n",
    "# confirm Keras sees the GPU\n",
    "from keras import backend\n",
    "assert len(backend.tensorflow_backend._get_available_gpus()) > 0\n",
    "\n",
    "gpu_options = GPUOptions(per_process_gpu_memory_fraction = 0.90)           #Assign portion of memory for training this model\n",
    "sess = Session(config = ConfigProto(gpu_options = gpu_options))\n",
    "\n",
    "\n",
    "#Uncomment to run on CPU\n",
    "#os.environ['CUDA_VISIBLE_DEVICES'] = '-1'"
   ]
  },
  {
   "cell_type": "code",
   "execution_count": null,
   "metadata": {},
   "outputs": [],
   "source": [
    "from tensorflow.keras.callbacks import TensorBoard\n",
    "from keras.callbacks import ModelCheckpoint\n",
    "from datetime import datetime\n",
    "now=datetime.now()\n",
    "s1 = now.strftime(\"%m\\%d\\%Y\\%H\\%M\\%S\")\n",
    "print(s1)\n",
    "NAME = \"Galaxy-zoo-\"+s1\n",
    "\n",
    "tensorboard = TensorBoard(log_dir = 'logs\\{}'.format(NAME))\n",
    "\n",
    "DIR = \"E:\\Galaxy Zoo\\Data\\images_training_rev1\"\n",
    "\n",
    "train_path = DIR + \"\\Train\"\n",
    "validate_path = DIR + \"\\Validate\"\n",
    "\n",
    "df = pd.read_csv(r'E:\\Galaxy Zoo\\Data\\images_training_rev1\\training_solutions_rev1/training_solutions_rev1.csv')\n",
    "\n",
    "df.set_index('GalaxyID', inplace = True)"
   ]
  },
  {
   "cell_type": "code",
   "execution_count": null,
   "metadata": {},
   "outputs": [],
   "source": [
    "def img_processor(path):\n",
    "    img = cv2.imread(path)\n",
    "    img = img[106:106*3,106:106*3,:]\n",
    "    img = cv2.resize(img,(106,106), interpolation = cv2.INTER_CUBIC)\n",
    "    return img\n",
    "\n",
    "def Batch_generator(DIR):\n",
    "    for img in os.listdir(DIR):\n",
    "        im = img_processor(os.path.join(DIR,img))\n",
    "        ind = int(img[:-4])\n",
    "        y_train = df.loc[ind].values\n",
    "        X_train = np.array(im)\n",
    "        X_train = X_train.reshape(1,106,106,3)\n",
    "        y_train = y_train.reshape(1,37)\n",
    "        yield(X_train,y_train)\n",
    "        \n",
    "def Validation_generator(DIR):\n",
    "    for img in os.listdir(DIR):\n",
    "        im = img_processor(os.path.join(DIR,img))\n",
    "        ind = int(img[:-4])\n",
    "        y_valid = df.loc[ind].values\n",
    "        X_valid = np.array(im)\n",
    "        X_valid = X_valid.reshape(1,106,106,3)\n",
    "        y_valid = y_valid.reshape(1,37)\n",
    "        yield(X_valid,y_valid)"
   ]
  },
  {
   "cell_type": "code",
   "execution_count": null,
   "metadata": {},
   "outputs": [],
   "source": [
    "from keras.models import Sequential\n",
    "from keras.layers import Dense,BatchNormalization,Dropout,Activation,Flatten,Conv2D,MaxPooling2D,ZeroPadding2D,Lambda\n",
    "from keras.optimizers import SGD, RMSprop, Adam\n"
   ]
  },
  {
   "cell_type": "code",
   "execution_count": null,
   "metadata": {},
   "outputs": [],
   "source": [
    "\n",
    "def Conv(model,layers,filters):\n",
    "    for i in range(layers):\n",
    "        model.add(ZeroPadding2D((1,1))) \n",
    "        model.add(Conv2D((filters), kernel_size = (3,3), activation = 'relu'))\n",
    "        \n",
    "    model.add(MaxPooling2D(pool_size=(2,2), strides = (2,2)))\n",
    "\n",
    "    \n",
    "def FC_block(model,filters):\n",
    "    model.add(Dense(filters, activation='relu'))\n",
    "    model.add(BatchNormalization())\n",
    "    model.add(Dropout(0.5))\n",
    "    \n",
    "def VGG16():\n",
    "    model = Sequential()\n",
    "    model.add(Lambda(lambda x : x, input_shape=(106,106,3)))\n",
    "\n",
    "    Conv(model,2,64)\n",
    "    Conv(model,2,128)\n",
    "    Conv(model,3,256)\n",
    "    Conv(model,3,512)\n",
    "    Conv(model,3,512)\n",
    "    \n",
    "    model.add(Flatten())\n",
    "    FC_block(model,4096)\n",
    "    FC_block(model,4096)\n",
    "    FC_block(model,1000)\n",
    "    \n",
    "    model.add(Dense(37))\n",
    "    model.add(Activation(\"sigmoid\"))\n",
    "\n",
    "    return model"
   ]
  },
  {
   "cell_type": "code",
   "execution_count": null,
   "metadata": {
    "scrolled": true
   },
   "outputs": [],
   "source": [
    "\n",
    "model = VGG16()\n",
    "\n",
    "model.compile(optimizer = RMSprop(lr=1e-6), loss='mean_squared_error', metrics = ['accuracy'])\n"
   ]
  },
  {
   "cell_type": "code",
   "execution_count": null,
   "metadata": {},
   "outputs": [],
   "source": [
    "model.summary()"
   ]
  },
  {
   "cell_type": "code",
   "execution_count": null,
   "metadata": {},
   "outputs": [],
   "source": [
    "batch_size = 64\n",
    "\n",
    "steps_per_batch = int(len(os.listdir(train_path))/batch_size)\n",
    "val_steps_per_batch = int(len(os.listdir(validate_path))/batch_size)\n",
    "\n",
    "checkpointer = ModelCheckpoint(filepath=r'E:\\Galaxy Zoo\\Data\\images_training_rev1\\training_solutions_rev1\\weights.hdf5',verbose=1,save_best_only=True)"
   ]
  },
  {
   "cell_type": "code",
   "execution_count": null,
   "metadata": {
    "scrolled": false
   },
   "outputs": [],
   "source": [
    "history = model.fit_generator(\n",
    "                    Batch_generator(train_path),\n",
    "                    samples_per_epoch=steps_per_batch,\n",
    "                    epochs = 35,\n",
    "                    validation_data=Validation_generator(validate_path),\n",
    "                    nb_val_samples=val_steps_per_batch,\n",
    "                    verbose = 1,\n",
    "                    callbacks = [tensorboard,checkpointer]\n",
    "                   )"
   ]
  },
  {
   "cell_type": "code",
   "execution_count": null,
   "metadata": {},
   "outputs": [],
   "source": [
    " "
   ]
  }
 ],
 "metadata": {
  "kernelspec": {
   "display_name": "gpu_tensor",
   "language": "python",
   "name": "gpu_tensor"
  },
  "language_info": {
   "codemirror_mode": {
    "name": "ipython",
    "version": 3
   },
   "file_extension": ".py",
   "mimetype": "text/x-python",
   "name": "python",
   "nbconvert_exporter": "python",
   "pygments_lexer": "ipython3",
   "version": "3.7.4"
  }
 },
 "nbformat": 4,
 "nbformat_minor": 2
}
