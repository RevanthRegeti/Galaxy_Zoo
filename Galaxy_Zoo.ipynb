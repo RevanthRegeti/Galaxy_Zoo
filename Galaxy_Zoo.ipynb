{
 "cells": [
  {
   "cell_type": "code",
   "execution_count": 19,
   "metadata": {},
   "outputs": [],
   "source": [
    "import numpy as np\n",
    "import matplotlib.pyplot as plt\n",
    "import os\n",
    "import cv2\n",
    "import pandas as pd\n",
    "import warnings\n",
    "warnings.filterwarnings('ignore')\n",
    "\n",
    "# confirm TensorFlow sees the GPU\n",
    "from tensorflow.python.client import device_lib\n",
    "assert 'GPU' in str(device_lib.list_local_devices())\n",
    "\n",
    "# confirm Keras sees the GPU\n",
    "from keras import backend\n",
    "assert len(backend.tensorflow_backend._get_available_gpus()) > 0\n",
    "\n",
    "#Uncomment to run on CPU\n",
    "#os.environ['CUDA_VISIBLE_DEVICES'] = '-1'"
   ]
  },
  {
   "cell_type": "code",
   "execution_count": 20,
   "metadata": {},
   "outputs": [
    {
     "data": {
      "text/plain": [
       "'def read_images():\\n    training_images = []\\n    i = 0\\n    DIR = \"E:\\\\Galaxy Zoo\\\\Data\\\\images_training_rev1\\\\images_training_rev1\"\\n    for img in os.listdir(DIR):\\n        im = cv2.imread(os.path.join(DIR,img))\\n        im = im[106:106*3,106:106*3,:]          #cropping 424x424->212x212\\n        im = cv2.resize(im,(106,106), interpolation=cv2.INTER_CUBIC)   #downsampling to half resolution 106x106\\n        training_images.append(im)\\n        i+=1\\n        if i==10000:\\n            break\\n        \\n    return training_images'"
      ]
     },
     "execution_count": 20,
     "metadata": {},
     "output_type": "execute_result"
    }
   ],
   "source": [
    "'''def read_images():\n",
    "    training_images = []\n",
    "    i = 0\n",
    "    DIR = \"E:\\Galaxy Zoo\\Data\\images_training_rev1\\images_training_rev1\"\n",
    "    for img in os.listdir(DIR):\n",
    "        im = cv2.imread(os.path.join(DIR,img))\n",
    "        im = im[106:106*3,106:106*3,:]          #cropping 424x424->212x212\n",
    "        im = cv2.resize(im,(106,106), interpolation=cv2.INTER_CUBIC)   #downsampling to half resolution 106x106\n",
    "        training_images.append(im)\n",
    "        i+=1\n",
    "        if i==10000:\n",
    "            break\n",
    "        \n",
    "    return training_images'''\n",
    "    "
   ]
  },
  {
   "cell_type": "code",
   "execution_count": 21,
   "metadata": {},
   "outputs": [],
   "source": [
    "DIR = \"E:\\Galaxy Zoo\\Data\\images_training_rev1\"\n",
    "\n",
    "train_path = DIR + \"\\Train\"\n",
    "validate_path = DIR + \"\\Validate\"\n",
    "\n",
    "df = pd.read_csv(\"training_solutions_rev1/training_solutions_rev1.csv\")\n",
    "\n",
    "df.set_index('GalaxyID', inplace = True)"
   ]
  },
  {
   "cell_type": "code",
   "execution_count": 22,
   "metadata": {},
   "outputs": [],
   "source": [
    "def img_processor(path):\n",
    "    img = cv2.imread(path)\n",
    "    img = img[106:106*3,106:106*3,:]\n",
    "    img = cv2.resize(img,(106,106), interpolation = cv2.INTER_CUBIC)\n",
    "    return img\n",
    "\n",
    "def Batch_generator(DIR):\n",
    "    for img in os.listdir(DIR):\n",
    "        im = img_processor(os.path.join(DIR,img))\n",
    "        ind = int(img[:-4])\n",
    "        y_train = df.loc[ind].values\n",
    "        X_train = np.array(im)\n",
    "        X_train = X_train.reshape(1,106,106,3)\n",
    "        y_train = y_train.reshape(1,37)\n",
    "        yield(X_train,y_train)\n",
    "        \n",
    "def Validation_generator(DIR):\n",
    "    for img in os.listdir(DIR):\n",
    "        im = img_processor(os.path.join(DIR,img))\n",
    "        ind = int(img[:-4])\n",
    "        y_valid = df.loc[ind].values\n",
    "        X_valid = np.array(im)\n",
    "        X_valid = X_valid.reshape(1,106,106,3)\n",
    "        y_valid = y_valid.reshape(1,37)\n",
    "        yield(X_valid,y_valid)"
   ]
  },
  {
   "cell_type": "code",
   "execution_count": 23,
   "metadata": {},
   "outputs": [],
   "source": [
    "from keras.models import Sequential\n",
    "from keras.layers import Dense,Dropout,Activation,Flatten,Conv2D,MaxPooling2D,ZeroPadding2D,Lambda\n",
    "from keras.optimizers import SGD, RMSprop, Adam"
   ]
  },
  {
   "cell_type": "code",
   "execution_count": 24,
   "metadata": {},
   "outputs": [],
   "source": [
    "def Conv(model,layers,filters):\n",
    "    for i in range(layers):\n",
    "        model.add(ZeroPadding2D((1,1))) \n",
    "        model.add(Conv2D((filters), kernel_size = (3,3), activation = 'relu'))\n",
    "        \n",
    "    model.add(MaxPooling2D(pool_size=(2,2), strides = (2,2)))\n",
    "    \n",
    "def FC_block(model,filters):\n",
    "    model.add(Dense(filters, activation='relu'))\n",
    "    model.add(Dropout(0.5))\n",
    "    \n",
    "def VGG16():\n",
    "    model = Sequential()\n",
    "    model.add(Lambda(lambda x : x, input_shape=(106,106,3)))\n",
    "\n",
    "    Conv(model,2,64)\n",
    "    Conv(model,2,128)\n",
    "    Conv(model,3,256)\n",
    "    Conv(model,3,512)\n",
    "    Conv(model,3,512)\n",
    "    \n",
    "    model.add(Flatten())\n",
    "    FC_block(model,4096)\n",
    "    FC_block(model,4096)\n",
    "    FC_block(model,1000)\n",
    "    \n",
    "    model.add(Dense(37))\n",
    "    model.add(Activation(\"sigmoid\"))\n",
    "\n",
    "    return model"
   ]
  },
  {
   "cell_type": "code",
   "execution_count": 25,
   "metadata": {
    "scrolled": false
   },
   "outputs": [],
   "source": [
    "\n",
    "model = VGG16()\n",
    "\n",
    "model.compile(optimizer = RMSprop(lr=1e-6), loss='mean_squared_error', metrics = ['accuracy'])\n"
   ]
  },
  {
   "cell_type": "code",
   "execution_count": 26,
   "metadata": {
    "scrolled": false
   },
   "outputs": [
    {
     "name": "stdout",
     "output_type": "stream",
     "text": [
      "_________________________________________________________________\n",
      "Layer (type)                 Output Shape              Param #   \n",
      "=================================================================\n",
      "lambda_3 (Lambda)            (None, 106, 106, 3)       0         \n",
      "_________________________________________________________________\n",
      "zero_padding2d_27 (ZeroPaddi (None, 108, 108, 3)       0         \n",
      "_________________________________________________________________\n",
      "conv2d_27 (Conv2D)           (None, 106, 106, 64)      1792      \n",
      "_________________________________________________________________\n",
      "zero_padding2d_28 (ZeroPaddi (None, 108, 108, 64)      0         \n",
      "_________________________________________________________________\n",
      "conv2d_28 (Conv2D)           (None, 106, 106, 64)      36928     \n",
      "_________________________________________________________________\n",
      "max_pooling2d_11 (MaxPooling (None, 53, 53, 64)        0         \n",
      "_________________________________________________________________\n",
      "zero_padding2d_29 (ZeroPaddi (None, 55, 55, 64)        0         \n",
      "_________________________________________________________________\n",
      "conv2d_29 (Conv2D)           (None, 53, 53, 128)       73856     \n",
      "_________________________________________________________________\n",
      "zero_padding2d_30 (ZeroPaddi (None, 55, 55, 128)       0         \n",
      "_________________________________________________________________\n",
      "conv2d_30 (Conv2D)           (None, 53, 53, 128)       147584    \n",
      "_________________________________________________________________\n",
      "max_pooling2d_12 (MaxPooling (None, 26, 26, 128)       0         \n",
      "_________________________________________________________________\n",
      "zero_padding2d_31 (ZeroPaddi (None, 28, 28, 128)       0         \n",
      "_________________________________________________________________\n",
      "conv2d_31 (Conv2D)           (None, 26, 26, 256)       295168    \n",
      "_________________________________________________________________\n",
      "zero_padding2d_32 (ZeroPaddi (None, 28, 28, 256)       0         \n",
      "_________________________________________________________________\n",
      "conv2d_32 (Conv2D)           (None, 26, 26, 256)       590080    \n",
      "_________________________________________________________________\n",
      "zero_padding2d_33 (ZeroPaddi (None, 28, 28, 256)       0         \n",
      "_________________________________________________________________\n",
      "conv2d_33 (Conv2D)           (None, 26, 26, 256)       590080    \n",
      "_________________________________________________________________\n",
      "max_pooling2d_13 (MaxPooling (None, 13, 13, 256)       0         \n",
      "_________________________________________________________________\n",
      "zero_padding2d_34 (ZeroPaddi (None, 15, 15, 256)       0         \n",
      "_________________________________________________________________\n",
      "conv2d_34 (Conv2D)           (None, 13, 13, 512)       1180160   \n",
      "_________________________________________________________________\n",
      "zero_padding2d_35 (ZeroPaddi (None, 15, 15, 512)       0         \n",
      "_________________________________________________________________\n",
      "conv2d_35 (Conv2D)           (None, 13, 13, 512)       2359808   \n",
      "_________________________________________________________________\n",
      "zero_padding2d_36 (ZeroPaddi (None, 15, 15, 512)       0         \n",
      "_________________________________________________________________\n",
      "conv2d_36 (Conv2D)           (None, 13, 13, 512)       2359808   \n",
      "_________________________________________________________________\n",
      "max_pooling2d_14 (MaxPooling (None, 6, 6, 512)         0         \n",
      "_________________________________________________________________\n",
      "zero_padding2d_37 (ZeroPaddi (None, 8, 8, 512)         0         \n",
      "_________________________________________________________________\n",
      "conv2d_37 (Conv2D)           (None, 6, 6, 512)         2359808   \n",
      "_________________________________________________________________\n",
      "zero_padding2d_38 (ZeroPaddi (None, 8, 8, 512)         0         \n",
      "_________________________________________________________________\n",
      "conv2d_38 (Conv2D)           (None, 6, 6, 512)         2359808   \n",
      "_________________________________________________________________\n",
      "zero_padding2d_39 (ZeroPaddi (None, 8, 8, 512)         0         \n",
      "_________________________________________________________________\n",
      "conv2d_39 (Conv2D)           (None, 6, 6, 512)         2359808   \n",
      "_________________________________________________________________\n",
      "max_pooling2d_15 (MaxPooling (None, 3, 3, 512)         0         \n",
      "_________________________________________________________________\n",
      "flatten_3 (Flatten)          (None, 4608)              0         \n",
      "_________________________________________________________________\n",
      "dense_9 (Dense)              (None, 4096)              18878464  \n",
      "_________________________________________________________________\n",
      "dropout_7 (Dropout)          (None, 4096)              0         \n",
      "_________________________________________________________________\n",
      "dense_10 (Dense)             (None, 4096)              16781312  \n",
      "_________________________________________________________________\n",
      "dropout_8 (Dropout)          (None, 4096)              0         \n",
      "_________________________________________________________________\n",
      "dense_11 (Dense)             (None, 1000)              4097000   \n",
      "_________________________________________________________________\n",
      "dropout_9 (Dropout)          (None, 1000)              0         \n",
      "_________________________________________________________________\n",
      "dense_12 (Dense)             (None, 37)                37037     \n",
      "_________________________________________________________________\n",
      "activation_3 (Activation)    (None, 37)                0         \n",
      "=================================================================\n",
      "Total params: 54,508,501\n",
      "Trainable params: 54,508,501\n",
      "Non-trainable params: 0\n",
      "_________________________________________________________________\n"
     ]
    }
   ],
   "source": [
    "model.summary()"
   ]
  },
  {
   "cell_type": "code",
   "execution_count": 29,
   "metadata": {},
   "outputs": [],
   "source": [
    "batch_size = 32\n",
    "\n",
    "steps_per_batch = int(len(os.listdir(train_path))/batch_size)\n",
    "val_steps_per_batch = int(len(os.listdir(validate_path))/batch_size)"
   ]
  },
  {
   "cell_type": "code",
   "execution_count": 30,
   "metadata": {
    "scrolled": false
   },
   "outputs": [
    {
     "name": "stdout",
     "output_type": "stream",
     "text": [
      "Epoch 1/50\n",
      "1924/1924 [==============================] - 142s 74ms/step - loss: 0.0430 - acc: 0.5312 - val_loss: 0.0302 - val_acc: 0.5825\n",
      "Epoch 2/50\n",
      "1924/1924 [==============================] - 143s 75ms/step - loss: 0.0390 - acc: 0.5177 - val_loss: 0.0285 - val_acc: 0.5908\n",
      "Epoch 3/50\n",
      "1924/1924 [==============================] - 143s 74ms/step - loss: 0.0368 - acc: 0.5281 - val_loss: 0.0280 - val_acc: 0.5678\n",
      "Epoch 4/50\n",
      "1924/1924 [==============================] - 145s 75ms/step - loss: 0.0354 - acc: 0.5494 - val_loss: 0.0265 - val_acc: 0.6033\n",
      "Epoch 5/50\n",
      "1924/1924 [==============================] - 147s 76ms/step - loss: 0.0344 - acc: 0.5421 - val_loss: 0.0272 - val_acc: 0.5992\n",
      "Epoch 6/50\n",
      "1924/1924 [==============================] - 147s 76ms/step - loss: 0.0330 - acc: 0.5582 - val_loss: 0.0268 - val_acc: 0.5992\n",
      "Epoch 7/50\n",
      "1924/1924 [==============================] - 148s 77ms/step - loss: 0.0318 - acc: 0.5551 - val_loss: 0.0244 - val_acc: 0.6033\n",
      "Epoch 8/50\n",
      "1924/1924 [==============================] - 147s 76ms/step - loss: 0.0304 - acc: 0.5707 - val_loss: 0.0231 - val_acc: 0.6388\n",
      "Epoch 9/50\n",
      "1924/1924 [==============================] - 148s 77ms/step - loss: 0.0307 - acc: 0.5483 - val_loss: 0.0237 - val_acc: 0.6075\n",
      "Epoch 10/50\n",
      "1924/1924 [==============================] - 147s 76ms/step - loss: 0.0299 - acc: 0.5639 - val_loss: 0.0241 - val_acc: 0.6242\n",
      "Epoch 11/50\n",
      "1924/1924 [==============================] - 146s 76ms/step - loss: 0.0291 - acc: 0.5655 - val_loss: 0.0225 - val_acc: 0.6430\n",
      "Epoch 12/50\n",
      "1924/1924 [==============================] - 146s 76ms/step - loss: 0.0286 - acc: 0.5613 - val_loss: 0.0237 - val_acc: 0.6159\n",
      "Epoch 13/50\n",
      "1924/1924 [==============================] - 146s 76ms/step - loss: 0.0277 - acc: 0.5530 - val_loss: 0.0230 - val_acc: 0.6138\n",
      "Epoch 14/50\n",
      "1924/1924 [==============================] - 146s 76ms/step - loss: 0.0268 - acc: 0.5499 - val_loss: 0.0222 - val_acc: 0.6493\n",
      "Epoch 15/50\n",
      "1924/1924 [==============================] - 146s 76ms/step - loss: 0.0262 - acc: 0.5483 - val_loss: 0.0221 - val_acc: 0.6054\n",
      "Epoch 16/50\n",
      "1924/1924 [==============================] - 146s 76ms/step - loss: 0.0262 - acc: 0.5561 - val_loss: 0.0202 - val_acc: 0.6430\n",
      "Epoch 17/50\n",
      "1924/1924 [==============================] - 147s 76ms/step - loss: 0.0257 - acc: 0.5473 - val_loss: 0.0219 - val_acc: 0.6200\n",
      "Epoch 18/50\n",
      "1924/1924 [==============================] - 146s 76ms/step - loss: 0.0250 - acc: 0.5551 - val_loss: 0.0208 - val_acc: 0.6242\n",
      "Epoch 19/50\n",
      "1924/1924 [==============================] - 146s 76ms/step - loss: 0.0245 - acc: 0.5275 - val_loss: 0.0209 - val_acc: 0.6367\n",
      "Epoch 20/50\n",
      "1924/1924 [==============================] - 147s 76ms/step - loss: 0.0244 - acc: 0.5442 - val_loss: 0.0194 - val_acc: 0.6597\n",
      "Epoch 21/50\n",
      "1924/1924 [==============================] - 147s 76ms/step - loss: 0.0244 - acc: 0.5655 - val_loss: 0.0201 - val_acc: 0.6514\n",
      "Epoch 22/50\n",
      "1924/1924 [==============================] - 148s 77ms/step - loss: 0.0234 - acc: 0.5473 - val_loss: 0.0189 - val_acc: 0.6347\n",
      "Epoch 23/50\n",
      "1924/1924 [==============================] - 147s 76ms/step - loss: 0.0229 - acc: 0.5733 - val_loss: 0.0183 - val_acc: 0.6242\n",
      "Epoch 24/50\n",
      "1924/1924 [==============================] - 146s 76ms/step - loss: 0.0227 - acc: 0.5541 - val_loss: 0.0198 - val_acc: 0.6075\n",
      "Epoch 25/50\n",
      "1924/1924 [==============================] - 146s 76ms/step - loss: 0.0226 - acc: 0.5509 - val_loss: 0.0189 - val_acc: 0.6472\n",
      "Epoch 26/50\n",
      "1924/1924 [==============================] - 146s 76ms/step - loss: 0.0220 - acc: 0.5712 - val_loss: 0.0189 - val_acc: 0.6347\n",
      "Epoch 27/50\n",
      "1924/1924 [==============================] - 148s 77ms/step - loss: 0.0225 - acc: 0.5608 - val_loss: 0.0202 - val_acc: 0.6221\n",
      "Epoch 28/50\n",
      "1924/1924 [==============================] - 151s 78ms/step - loss: 0.0217 - acc: 0.5613 - val_loss: 0.0177 - val_acc: 0.6242\n",
      "Epoch 29/50\n",
      "1924/1924 [==============================] - 150s 78ms/step - loss: 0.0209 - acc: 0.6008 - val_loss: 0.0182 - val_acc: 0.6180\n",
      "Epoch 30/50\n",
      "1924/1924 [==============================] - 152s 79ms/step - loss: 0.0217 - acc: 0.5722 - val_loss: 0.0196 - val_acc: 0.6033\n",
      "Epoch 31/50\n",
      "1924/1924 [==============================] - 149s 78ms/step - loss: 0.0216 - acc: 0.5644 - val_loss: 0.0190 - val_acc: 0.5491\n",
      "Epoch 32/50\n",
      "1924/1924 [==============================] - 150s 78ms/step - loss: 0.0212 - acc: 0.5629 - val_loss: 0.0182 - val_acc: 0.5804\n",
      "Epoch 33/50\n",
      "  10/1924 [..............................] - ETA: 2:20 - loss: 0.0236 - acc: 0.4000"
     ]
    },
    {
     "ename": "StopIteration",
     "evalue": "",
     "output_type": "error",
     "traceback": [
      "\u001b[1;31m---------------------------------------------------------------------------\u001b[0m",
      "\u001b[1;31mStopIteration\u001b[0m                             Traceback (most recent call last)",
      "\u001b[1;32m<ipython-input-30-3cb017068a4d>\u001b[0m in \u001b[0;36m<module>\u001b[1;34m\u001b[0m\n\u001b[0;32m      6\u001b[0m                     \u001b[0mvalidation_data\u001b[0m\u001b[1;33m=\u001b[0m\u001b[0mValidation_generator\u001b[0m\u001b[1;33m(\u001b[0m\u001b[0mvalidate_path\u001b[0m\u001b[1;33m)\u001b[0m\u001b[1;33m,\u001b[0m\u001b[1;33m\u001b[0m\u001b[1;33m\u001b[0m\u001b[0m\n\u001b[0;32m      7\u001b[0m                     \u001b[0mnb_val_samples\u001b[0m\u001b[1;33m=\u001b[0m\u001b[0mval_steps_per_batch\u001b[0m\u001b[1;33m,\u001b[0m\u001b[1;33m\u001b[0m\u001b[1;33m\u001b[0m\u001b[0m\n\u001b[1;32m----> 8\u001b[1;33m                     \u001b[0mverbose\u001b[0m \u001b[1;33m=\u001b[0m \u001b[1;36m1\u001b[0m\u001b[1;33m\u001b[0m\u001b[1;33m\u001b[0m\u001b[0m\n\u001b[0m\u001b[0;32m      9\u001b[0m                    )\n\u001b[0;32m     10\u001b[0m \u001b[0mt2\u001b[0m \u001b[1;33m=\u001b[0m \u001b[0mtime\u001b[0m\u001b[1;33m.\u001b[0m\u001b[0mtime\u001b[0m\u001b[1;33m(\u001b[0m\u001b[1;33m)\u001b[0m\u001b[1;33m\u001b[0m\u001b[1;33m\u001b[0m\u001b[0m\n",
      "\u001b[1;32mc:\\users\\shinigami shrek\\appdata\\local\\programs\\python\\python36\\lib\\site-packages\\keras\\legacy\\interfaces.py\u001b[0m in \u001b[0;36mwrapper\u001b[1;34m(*args, **kwargs)\u001b[0m\n\u001b[0;32m     89\u001b[0m                 warnings.warn('Update your `' + object_name + '` call to the ' +\n\u001b[0;32m     90\u001b[0m                               'Keras 2 API: ' + signature, stacklevel=2)\n\u001b[1;32m---> 91\u001b[1;33m             \u001b[1;32mreturn\u001b[0m \u001b[0mfunc\u001b[0m\u001b[1;33m(\u001b[0m\u001b[1;33m*\u001b[0m\u001b[0margs\u001b[0m\u001b[1;33m,\u001b[0m \u001b[1;33m**\u001b[0m\u001b[0mkwargs\u001b[0m\u001b[1;33m)\u001b[0m\u001b[1;33m\u001b[0m\u001b[1;33m\u001b[0m\u001b[0m\n\u001b[0m\u001b[0;32m     92\u001b[0m         \u001b[0mwrapper\u001b[0m\u001b[1;33m.\u001b[0m\u001b[0m_original_function\u001b[0m \u001b[1;33m=\u001b[0m \u001b[0mfunc\u001b[0m\u001b[1;33m\u001b[0m\u001b[1;33m\u001b[0m\u001b[0m\n\u001b[0;32m     93\u001b[0m         \u001b[1;32mreturn\u001b[0m \u001b[0mwrapper\u001b[0m\u001b[1;33m\u001b[0m\u001b[1;33m\u001b[0m\u001b[0m\n",
      "\u001b[1;32mc:\\users\\shinigami shrek\\appdata\\local\\programs\\python\\python36\\lib\\site-packages\\keras\\engine\\training.py\u001b[0m in \u001b[0;36mfit_generator\u001b[1;34m(self, generator, steps_per_epoch, epochs, verbose, callbacks, validation_data, validation_steps, class_weight, max_queue_size, workers, use_multiprocessing, shuffle, initial_epoch)\u001b[0m\n\u001b[0;32m   1416\u001b[0m             \u001b[0muse_multiprocessing\u001b[0m\u001b[1;33m=\u001b[0m\u001b[0muse_multiprocessing\u001b[0m\u001b[1;33m,\u001b[0m\u001b[1;33m\u001b[0m\u001b[1;33m\u001b[0m\u001b[0m\n\u001b[0;32m   1417\u001b[0m             \u001b[0mshuffle\u001b[0m\u001b[1;33m=\u001b[0m\u001b[0mshuffle\u001b[0m\u001b[1;33m,\u001b[0m\u001b[1;33m\u001b[0m\u001b[1;33m\u001b[0m\u001b[0m\n\u001b[1;32m-> 1418\u001b[1;33m             initial_epoch=initial_epoch)\n\u001b[0m\u001b[0;32m   1419\u001b[0m \u001b[1;33m\u001b[0m\u001b[0m\n\u001b[0;32m   1420\u001b[0m     \u001b[1;33m@\u001b[0m\u001b[0minterfaces\u001b[0m\u001b[1;33m.\u001b[0m\u001b[0mlegacy_generator_methods_support\u001b[0m\u001b[1;33m\u001b[0m\u001b[1;33m\u001b[0m\u001b[0m\n",
      "\u001b[1;32mc:\\users\\shinigami shrek\\appdata\\local\\programs\\python\\python36\\lib\\site-packages\\keras\\engine\\training_generator.py\u001b[0m in \u001b[0;36mfit_generator\u001b[1;34m(model, generator, steps_per_epoch, epochs, verbose, callbacks, validation_data, validation_steps, class_weight, max_queue_size, workers, use_multiprocessing, shuffle, initial_epoch)\u001b[0m\n\u001b[0;32m    179\u001b[0m             \u001b[0mbatch_index\u001b[0m \u001b[1;33m=\u001b[0m \u001b[1;36m0\u001b[0m\u001b[1;33m\u001b[0m\u001b[1;33m\u001b[0m\u001b[0m\n\u001b[0;32m    180\u001b[0m             \u001b[1;32mwhile\u001b[0m \u001b[0msteps_done\u001b[0m \u001b[1;33m<\u001b[0m \u001b[0msteps_per_epoch\u001b[0m\u001b[1;33m:\u001b[0m\u001b[1;33m\u001b[0m\u001b[1;33m\u001b[0m\u001b[0m\n\u001b[1;32m--> 181\u001b[1;33m                 \u001b[0mgenerator_output\u001b[0m \u001b[1;33m=\u001b[0m \u001b[0mnext\u001b[0m\u001b[1;33m(\u001b[0m\u001b[0moutput_generator\u001b[0m\u001b[1;33m)\u001b[0m\u001b[1;33m\u001b[0m\u001b[1;33m\u001b[0m\u001b[0m\n\u001b[0m\u001b[0;32m    182\u001b[0m \u001b[1;33m\u001b[0m\u001b[0m\n\u001b[0;32m    183\u001b[0m                 \u001b[1;32mif\u001b[0m \u001b[1;32mnot\u001b[0m \u001b[0mhasattr\u001b[0m\u001b[1;33m(\u001b[0m\u001b[0mgenerator_output\u001b[0m\u001b[1;33m,\u001b[0m \u001b[1;34m'__len__'\u001b[0m\u001b[1;33m)\u001b[0m\u001b[1;33m:\u001b[0m\u001b[1;33m\u001b[0m\u001b[1;33m\u001b[0m\u001b[0m\n",
      "\u001b[1;31mStopIteration\u001b[0m: "
     ]
    }
   ],
   "source": [
    "import time\n",
    "t1 = time.time()\n",
    "model.fit_generator(Batch_generator(train_path),\n",
    "                    samples_per_epoch=steps_per_batch,\n",
    "                    epochs = 50,\n",
    "                    validation_data=Validation_generator(validate_path),\n",
    "                    nb_val_samples=val_steps_per_batch,\n",
    "                    verbose = 1\n",
    "                   )\n",
    "t2 = time.time()\n",
    "print(t1-t2)"
   ]
  },
  {
   "cell_type": "code",
   "execution_count": 15,
   "metadata": {},
   "outputs": [],
   "source": [
    "model.save(\"100819.model\")"
   ]
  },
  {
   "cell_type": "code",
   "execution_count": null,
   "metadata": {},
   "outputs": [],
   "source": []
  }
 ],
 "metadata": {
  "kernelspec": {
   "display_name": "Python 3",
   "language": "python",
   "name": "python3"
  },
  "language_info": {
   "codemirror_mode": {
    "name": "ipython",
    "version": 3
   },
   "file_extension": ".py",
   "mimetype": "text/x-python",
   "name": "python",
   "nbconvert_exporter": "python",
   "pygments_lexer": "ipython3",
   "version": "3.6.8"
  }
 },
 "nbformat": 4,
 "nbformat_minor": 2
}
