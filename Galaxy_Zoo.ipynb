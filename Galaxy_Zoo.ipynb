{
 "cells": [
  {
   "cell_type": "code",
   "execution_count": 1,
   "metadata": {},
   "outputs": [],
   "source": [
    "import numpy as np\n",
    "import matplotlib.pyplot as plt\n",
    "import os\n",
    "import cv2\n",
    "import pandas as pd"
   ]
  },
  {
   "cell_type": "code",
   "execution_count": 2,
   "metadata": {},
   "outputs": [],
   "source": [
    "def read_images():\n",
    "    training_images = []\n",
    "    i = 0\n",
    "    DIR = \"E:\\Galaxy Zoo\\Data\\images_training_rev1\\images_training_rev1\"\n",
    "    for img in os.listdir(DIR):\n",
    "        im = cv2.imread(os.path.join(DIR,img))\n",
    "        im = im[106:106*3,106:106*3,:]          #cropping 424x424->212x212\n",
    "        im = cv2.resize(im,(106,106), interpolation=cv2.INTER_CUBIC)   #downsampling to half resolution 106x106\n",
    "        training_images.append(im)\n",
    "        i+=1\n",
    "        if i==10000:\n",
    "            break\n",
    "        \n",
    "    return training_images\n",
    "    "
   ]
  },
  {
   "cell_type": "code",
   "execution_count": 3,
   "metadata": {},
   "outputs": [],
   "source": [
    "training_images = read_images()\n",
    "training_images = np.array(training_images).reshape(-1,106,106,3)"
   ]
  },
  {
   "cell_type": "code",
   "execution_count": 4,
   "metadata": {},
   "outputs": [],
   "source": [
    "X_train = training_images[:8000]\n",
    "x_test = training_images[8000:]\n",
    "df = pd.read_csv(\"training_solutions_rev1/training_solutions_rev1.csv\")\n",
    "y_train = df.drop('GalaxyID', axis = 1).values\n",
    "y_train = y_train[:10000]\n",
    "y_test = y_train[8000:10000]\n",
    "y_train = y_train[:8000]"
   ]
  },
  {
   "cell_type": "code",
   "execution_count": 5,
   "metadata": {},
   "outputs": [
    {
     "name": "stderr",
     "output_type": "stream",
     "text": [
      "Using TensorFlow backend.\n"
     ]
    }
   ],
   "source": [
    "from keras.models import Sequential\n",
    "from keras.layers import Dense,Dropout,Activation,Flatten,Conv2D,MaxPooling2D,ZeroPadding2D,Lambda\n",
    "from keras.optimizers import SGD, RMSprop, Adam"
   ]
  },
  {
   "cell_type": "code",
   "execution_count": 8,
   "metadata": {},
   "outputs": [],
   "source": [
    "def Conv(model,layers,filters):\n",
    "    for i in range(layers):\n",
    "        model.add(ZeroPadding2D((1,1))) \n",
    "        model.add(Conv2D((filters), kernel_size = (3,3)))\n",
    "        model.add(Activation(\"relu\"))\n",
    "        \n",
    "    model.add(MaxPooling2D(pool_size=(2,2), strides = (2,2)))"
   ]
  },
  {
   "cell_type": "code",
   "execution_count": 9,
   "metadata": {
    "scrolled": false
   },
   "outputs": [
    {
     "name": "stderr",
     "output_type": "stream",
     "text": [
      "W0802 23:24:07.640994 11072 deprecation_wrapper.py:119] From c:\\users\\shinigami shrek\\appdata\\local\\programs\\python\\python36\\lib\\site-packages\\keras\\backend\\tensorflow_backend.py:3976: The name tf.nn.max_pool is deprecated. Please use tf.nn.max_pool2d instead.\n",
      "\n",
      "W0802 23:24:07.880958 11072 deprecation_wrapper.py:119] From c:\\users\\shinigami shrek\\appdata\\local\\programs\\python\\python36\\lib\\site-packages\\keras\\backend\\tensorflow_backend.py:133: The name tf.placeholder_with_default is deprecated. Please use tf.compat.v1.placeholder_with_default instead.\n",
      "\n",
      "W0802 23:24:07.892992 11072 deprecation.py:506] From c:\\users\\shinigami shrek\\appdata\\local\\programs\\python\\python36\\lib\\site-packages\\keras\\backend\\tensorflow_backend.py:3445: calling dropout (from tensorflow.python.ops.nn_ops) with keep_prob is deprecated and will be removed in a future version.\n",
      "Instructions for updating:\n",
      "Please use `rate` instead of `keep_prob`. Rate should be set to `rate = 1 - keep_prob`.\n",
      "W0802 23:24:07.980997 11072 deprecation_wrapper.py:119] From c:\\users\\shinigami shrek\\appdata\\local\\programs\\python\\python36\\lib\\site-packages\\keras\\optimizers.py:790: The name tf.train.Optimizer is deprecated. Please use tf.compat.v1.train.Optimizer instead.\n",
      "\n"
     ]
    }
   ],
   "source": [
    "model = Sequential()\n",
    "model.add(Lambda(lambda x : x, input_shape=(106,106,3)))\n",
    "\n",
    "Conv(model,2,64)\n",
    "Conv(model,2,128)\n",
    "Conv(model,3,256)\n",
    "Conv(model,3,512)\n",
    "Conv(model,3,512)\n",
    "\n",
    "model.add(Flatten())\n",
    "model.add(Dense(4096))\n",
    "model.add(Activation(\"relu\"))\n",
    "model.add(Dropout(0.3))\n",
    "\n",
    "model.add(Dense(4096))\n",
    "model.add(Activation(\"relu\"))\n",
    "model.add(Dropout(0.3))\n",
    "\n",
    "\n",
    "model.add(Dense(37))\n",
    "model.add(Activation(\"sigmoid\"))\n",
    "\n",
    "model.compile(optimizer = RMSprop(lr=1e-6), loss='mean_squared_error', metrics = ['accuracy'])\n"
   ]
  },
  {
   "cell_type": "code",
   "execution_count": 10,
   "metadata": {},
   "outputs": [
    {
     "name": "stdout",
     "output_type": "stream",
     "text": [
      "(8000, 37) (8000, 106, 106, 3)\n"
     ]
    }
   ],
   "source": [
    "print(y_train.shape,\n",
    "X_train.shape)"
   ]
  },
  {
   "cell_type": "code",
   "execution_count": 11,
   "metadata": {},
   "outputs": [
    {
     "name": "stderr",
     "output_type": "stream",
     "text": [
      "W0802 23:25:11.675883 11072 deprecation_wrapper.py:119] From c:\\users\\shinigami shrek\\appdata\\local\\programs\\python\\python36\\lib\\site-packages\\keras\\backend\\tensorflow_backend.py:986: The name tf.assign_add is deprecated. Please use tf.compat.v1.assign_add instead.\n",
      "\n"
     ]
    },
    {
     "name": "stdout",
     "output_type": "stream",
     "text": [
      "Epoch 1/5\n",
      "8000/8000 [==============================] - 1103s 138ms/step - loss: 0.0530 - acc: 0.5245\n",
      "Epoch 2/5\n",
      "8000/8000 [==============================] - 1092s 136ms/step - loss: 0.0294 - acc: 0.5851\n",
      "Epoch 3/5\n",
      "8000/8000 [==============================] - 1044s 130ms/step - loss: 0.0271 - acc: 0.5906\n",
      "Epoch 4/5\n",
      "8000/8000 [==============================] - 1030s 129ms/step - loss: 0.0253 - acc: 0.5830\n",
      "Epoch 5/5\n",
      "8000/8000 [==============================] - 902s 113ms/step - loss: 0.0242 - acc: 0.5793\n"
     ]
    },
    {
     "data": {
      "text/plain": [
       "<keras.callbacks.History at 0x26de7db1a20>"
      ]
     },
     "execution_count": 11,
     "metadata": {},
     "output_type": "execute_result"
    }
   ],
   "source": [
    "model.fit(X_train,y_train, epochs = 5)"
   ]
  },
  {
   "cell_type": "code",
   "execution_count": 12,
   "metadata": {},
   "outputs": [
    {
     "name": "stdout",
     "output_type": "stream",
     "text": [
      "2000/2000 [==============================] - 48s 24ms/step\n"
     ]
    },
    {
     "data": {
      "text/plain": [
       "[0.02201651184260845, 0.601]"
      ]
     },
     "execution_count": 12,
     "metadata": {},
     "output_type": "execute_result"
    }
   ],
   "source": [
    "model.evaluate(x_test,y_test)"
   ]
  },
  {
   "cell_type": "code",
   "execution_count": 13,
   "metadata": {},
   "outputs": [],
   "source": [
    "model.save(\"20819.model\")"
   ]
  }
 ],
 "metadata": {
  "kernelspec": {
   "display_name": "Python 3",
   "language": "python",
   "name": "python3"
  },
  "language_info": {
   "codemirror_mode": {
    "name": "ipython",
    "version": 3
   },
   "file_extension": ".py",
   "mimetype": "text/x-python",
   "name": "python",
   "nbconvert_exporter": "python",
   "pygments_lexer": "ipython3",
   "version": "3.6.8"
  }
 },
 "nbformat": 4,
 "nbformat_minor": 2
}
