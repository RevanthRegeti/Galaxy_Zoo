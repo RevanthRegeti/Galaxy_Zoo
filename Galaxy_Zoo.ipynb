{
 "cells": [
  {
   "cell_type": "code",
   "execution_count": 23,
   "metadata": {},
   "outputs": [],
   "source": [
    "import numpy as np\n",
    "import matplotlib.pyplot as plt\n",
    "import os\n",
    "import cv2\n",
    "import pandas as pd"
   ]
  },
  {
   "cell_type": "code",
   "execution_count": 24,
   "metadata": {},
   "outputs": [],
   "source": [
    "def read_images():\n",
    "    training_images = []\n",
    "    i = 0\n",
    "    DIR = \"E:\\Galaxy Zoo\\Data\\images_training_rev1\\images_training_rev1\"\n",
    "    for img in os.listdir(DIR):\n",
    "        im = cv2.imread(os.path.join(DIR,img))\n",
    "        im = im[106:106*3,106:106*3,:]          #cropping 424x424->212x212\n",
    "        im = cv2.resize(im,(106,106), interpolation=cv2.INTER_CUBIC)   #downsampling to half resolution 106x106\n",
    "        training_images.append(im)\n",
    "        i+=1\n",
    "        if i==10000:\n",
    "            break\n",
    "        \n",
    "    return training_images\n",
    "    "
   ]
  },
  {
   "cell_type": "code",
   "execution_count": 25,
   "metadata": {},
   "outputs": [],
   "source": [
    "training_images = read_images()\n",
    "training_images = np.array(training_images).reshape(-1,106,106,3)"
   ]
  },
  {
   "cell_type": "code",
   "execution_count": 33,
   "metadata": {},
   "outputs": [],
   "source": [
    "X_train = training_images[:8000]\n",
    "x_test = training_images[8000:]\n",
    "df = pd.read_csv(\"training_solutions_rev1/training_solutions_rev1.csv\")\n",
    "y_train = df.drop('GalaxyID', axis = 1).values\n",
    "y_train = y_train[:10000]\n",
    "y_test = y_train[8000:10000]\n",
    "y_train = y_train[:8000]"
   ]
  },
  {
   "cell_type": "code",
   "execution_count": 27,
   "metadata": {},
   "outputs": [],
   "source": [
    "from keras.models import Sequential\n",
    "from keras.layers import Dense,Dropout,Activation,Flatten,Conv2D,MaxPooling2D,ZeroPadding2D,Lambda\n",
    "from keras.optimizers import SGD, RMSprop, Adam"
   ]
  },
  {
   "cell_type": "code",
   "execution_count": 49,
   "metadata": {
    "scrolled": false
   },
   "outputs": [],
   "source": [
    "model = Sequential()\n",
    "model.add(Lambda(lambda x : x, input_shape=(106,106,3)))\n",
    "\n",
    "model.add(ZeroPadding2D((1,1))) \n",
    "model.add(Conv2D((64), kernel_size = (3,3), input_shape = (106,106,3)))\n",
    "model.add(Activation(\"relu\"))\n",
    "\n",
    "model.add(ZeroPadding2D((1,1))) \n",
    "model.add(Conv2D((64), kernel_size = (3,3), input_shape = (106,106,3)))\n",
    "model.add(Activation(\"relu\"))\n",
    "\n",
    "model.add(ZeroPadding2D((1,1))) \n",
    "model.add(Conv2D((32), kernel_size = (3,3), input_shape = (106,106,3)))\n",
    "model.add(Activation(\"relu\"))\n",
    "model.add(MaxPooling2D(pool_size = (3,3), strides = (3,3)))\n",
    "\n",
    "model.add(Flatten())\n",
    "model.add(Dense(64))\n",
    "model.add(Activation(\"relu\"))\n",
    "model.add(Dropout(0.3))\n",
    "\n",
    "model.add(Dense(64))\n",
    "model.add(Activation(\"relu\"))\n",
    "model.add(Dropout(0.3))\n",
    "\n",
    "\n",
    "model.add(Dense(37))\n",
    "model.add(Activation(\"sigmoid\"))\n",
    "\n",
    "model.compile(optimizer = RMSprop(lr=1e-6), loss='mean_squared_error', metrics = ['accuracy'])\n"
   ]
  },
  {
   "cell_type": "code",
   "execution_count": 50,
   "metadata": {},
   "outputs": [
    {
     "name": "stdout",
     "output_type": "stream",
     "text": [
      "(8000, 37) (8000, 106, 106, 3)\n"
     ]
    }
   ],
   "source": [
    "print(y_train.shape,\n",
    "X_train.shape)"
   ]
  },
  {
   "cell_type": "code",
   "execution_count": null,
   "metadata": {},
   "outputs": [
    {
     "name": "stdout",
     "output_type": "stream",
     "text": [
      "Epoch 1/50\n",
      "4256/8000 [==============>...............] - ETA: 2:01 - loss: 0.3118 - acc: 0.0369"
     ]
    }
   ],
   "source": [
    "model.fit(X_train,y_train, epochs = 50)"
   ]
  },
  {
   "cell_type": "code",
   "execution_count": 39,
   "metadata": {},
   "outputs": [
    {
     "name": "stdout",
     "output_type": "stream",
     "text": [
      "2000/2000 [==============================] - 21s 11ms/step\n"
     ]
    },
    {
     "data": {
      "text/plain": [
       "[0.13860833859443664, 0.18]"
      ]
     },
     "execution_count": 39,
     "metadata": {},
     "output_type": "execute_result"
    }
   ],
   "source": [
    "model.evaluate(x_test,y_test)"
   ]
  }
 ],
 "metadata": {
  "kernelspec": {
   "display_name": "Python 3",
   "language": "python",
   "name": "python3"
  },
  "language_info": {
   "codemirror_mode": {
    "name": "ipython",
    "version": 3
   },
   "file_extension": ".py",
   "mimetype": "text/x-python",
   "name": "python",
   "nbconvert_exporter": "python",
   "pygments_lexer": "ipython3",
   "version": "3.6.8"
  }
 },
 "nbformat": 4,
 "nbformat_minor": 2
}
