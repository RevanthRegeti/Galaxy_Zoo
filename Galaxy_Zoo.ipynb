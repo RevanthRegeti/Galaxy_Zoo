{
 "cells": [
  {
   "cell_type": "code",
   "execution_count": 5,
   "metadata": {},
   "outputs": [],
   "source": [
    "import numpy as np\n",
    "import matplotlib.pyplot as plt\n",
    "import os\n",
    "import cv2\n",
    "import pandas as pd\n",
    "import warnings\n",
    "warnings.filterwarnings('ignore')"
   ]
  },
  {
   "cell_type": "code",
   "execution_count": 6,
   "metadata": {},
   "outputs": [
    {
     "data": {
      "text/plain": [
       "'def read_images():\\n    training_images = []\\n    i = 0\\n    DIR = \"E:\\\\Galaxy Zoo\\\\Data\\\\images_training_rev1\\\\images_training_rev1\"\\n    for img in os.listdir(DIR):\\n        im = cv2.imread(os.path.join(DIR,img))\\n        im = im[106:106*3,106:106*3,:]          #cropping 424x424->212x212\\n        im = cv2.resize(im,(106,106), interpolation=cv2.INTER_CUBIC)   #downsampling to half resolution 106x106\\n        training_images.append(im)\\n        i+=1\\n        if i==10000:\\n            break\\n        \\n    return training_images'"
      ]
     },
     "execution_count": 6,
     "metadata": {},
     "output_type": "execute_result"
    }
   ],
   "source": [
    "'''def read_images():\n",
    "    training_images = []\n",
    "    i = 0\n",
    "    DIR = \"E:\\Galaxy Zoo\\Data\\images_training_rev1\\images_training_rev1\"\n",
    "    for img in os.listdir(DIR):\n",
    "        im = cv2.imread(os.path.join(DIR,img))\n",
    "        im = im[106:106*3,106:106*3,:]          #cropping 424x424->212x212\n",
    "        im = cv2.resize(im,(106,106), interpolation=cv2.INTER_CUBIC)   #downsampling to half resolution 106x106\n",
    "        training_images.append(im)\n",
    "        i+=1\n",
    "        if i==10000:\n",
    "            break\n",
    "        \n",
    "    return training_images'''\n",
    "    "
   ]
  },
  {
   "cell_type": "code",
   "execution_count": 7,
   "metadata": {},
   "outputs": [],
   "source": [
    "DIR = \"E:\\Galaxy Zoo\\Data\\images_training_rev1\"\n",
    "\n",
    "train_path = DIR + \"\\Train\"\n",
    "validate_path = DIR + \"\\Validate\"\n",
    "\n",
    "df = pd.read_csv(\"training_solutions_rev1/training_solutions_rev1.csv\")\n",
    "\n",
    "df.set_index('GalaxyID', inplace = True)"
   ]
  },
  {
   "cell_type": "code",
   "execution_count": 8,
   "metadata": {},
   "outputs": [],
   "source": [
    "def img_processor(path):\n",
    "    img = cv2.imread(path)\n",
    "    img = img[106:106*3,106:106*3,:]\n",
    "    img = cv2.resize(img,(106,106), interpolation = cv2.INTER_CUBIC)\n",
    "    return img\n",
    "\n",
    "def Batch_generator(DIR):\n",
    "    for img in os.listdir(DIR):\n",
    "        im = img_processor(os.path.join(DIR,img))\n",
    "        ind = int(img[:-4])\n",
    "        y_train = df.loc[ind].values\n",
    "        X_train = np.array(im)\n",
    "        X_train = X_train.reshape(1,106,106,3)\n",
    "        y_train = y_train.reshape(1,37)\n",
    "        yield(X_train,y_train)\n",
    "        \n",
    "def Validation_generator(DIR):\n",
    "    for img in os.listdir(DIR):\n",
    "        im = img_processor(os.path.join(DIR,img))\n",
    "        ind = int(img[:-4])\n",
    "        y_valid = df.loc[ind].values\n",
    "        X_valid = np.array(im)\n",
    "        X_valid = X_valid.reshape(1,106,106,3)\n",
    "        y_valid = y_valid.reshape(1,37)\n",
    "        yield(X_valid,y_valid)"
   ]
  },
  {
   "cell_type": "code",
   "execution_count": 9,
   "metadata": {},
   "outputs": [
    {
     "name": "stderr",
     "output_type": "stream",
     "text": [
      "Using TensorFlow backend.\n"
     ]
    }
   ],
   "source": [
    "from keras.models import Sequential\n",
    "from keras.layers import Dense,Dropout,Activation,Flatten,Conv2D,MaxPooling2D,ZeroPadding2D,Lambda\n",
    "from keras.optimizers import SGD, RMSprop, Adam"
   ]
  },
  {
   "cell_type": "code",
   "execution_count": 10,
   "metadata": {},
   "outputs": [],
   "source": [
    "def Conv(model,layers,filters):\n",
    "    for i in range(layers):\n",
    "        model.add(ZeroPadding2D((1,1))) \n",
    "        model.add(Conv2D((filters), kernel_size = (3,3), activation = 'relu'))\n",
    "        \n",
    "    model.add(MaxPooling2D(pool_size=(2,2), strides = (2,2)))\n",
    "    \n",
    "def FC_block(model):\n",
    "    model.add(Dense(4096, activation='relu'))\n",
    "    model.add(Dropout(0.5))\n",
    "    \n",
    "def VGG16():\n",
    "    model = Sequential()\n",
    "    model.add(Lambda(lambda x : x, input_shape=(106,106,3)))\n",
    "\n",
    "    Conv(model,2,64)\n",
    "    Conv(model,2,128)\n",
    "    Conv(model,3,256)\n",
    "    Conv(model,3,512)\n",
    "    Conv(model,3,512)\n",
    "    \n",
    "    model.add(Flatten())\n",
    "    FC_block(model)\n",
    "    FC_block(model)\n",
    "    \n",
    "    model.add(Dense(37))\n",
    "    model.add(Activation(\"sigmoid\"))\n",
    "\n",
    "    return model"
   ]
  },
  {
   "cell_type": "code",
   "execution_count": 11,
   "metadata": {
    "scrolled": false
   },
   "outputs": [
    {
     "name": "stderr",
     "output_type": "stream",
     "text": [
      "WARNING: Logging before flag parsing goes to stderr.\n",
      "W0810 00:20:48.169716 10588 deprecation_wrapper.py:119] From c:\\users\\shinigami shrek\\appdata\\local\\programs\\python\\python36\\lib\\site-packages\\keras\\backend\\tensorflow_backend.py:74: The name tf.get_default_graph is deprecated. Please use tf.compat.v1.get_default_graph instead.\n",
      "\n",
      "W0810 00:20:48.182683 10588 deprecation_wrapper.py:119] From c:\\users\\shinigami shrek\\appdata\\local\\programs\\python\\python36\\lib\\site-packages\\keras\\backend\\tensorflow_backend.py:517: The name tf.placeholder is deprecated. Please use tf.compat.v1.placeholder instead.\n",
      "\n",
      "W0810 00:20:48.187701 10588 deprecation_wrapper.py:119] From c:\\users\\shinigami shrek\\appdata\\local\\programs\\python\\python36\\lib\\site-packages\\keras\\backend\\tensorflow_backend.py:4138: The name tf.random_uniform is deprecated. Please use tf.random.uniform instead.\n",
      "\n",
      "W0810 00:20:48.210639 10588 deprecation_wrapper.py:119] From c:\\users\\shinigami shrek\\appdata\\local\\programs\\python\\python36\\lib\\site-packages\\keras\\backend\\tensorflow_backend.py:3976: The name tf.nn.max_pool is deprecated. Please use tf.nn.max_pool2d instead.\n",
      "\n",
      "W0810 00:20:48.335304 10588 deprecation_wrapper.py:119] From c:\\users\\shinigami shrek\\appdata\\local\\programs\\python\\python36\\lib\\site-packages\\keras\\backend\\tensorflow_backend.py:133: The name tf.placeholder_with_default is deprecated. Please use tf.compat.v1.placeholder_with_default instead.\n",
      "\n",
      "W0810 00:20:48.340259 10588 deprecation.py:506] From c:\\users\\shinigami shrek\\appdata\\local\\programs\\python\\python36\\lib\\site-packages\\keras\\backend\\tensorflow_backend.py:3445: calling dropout (from tensorflow.python.ops.nn_ops) with keep_prob is deprecated and will be removed in a future version.\n",
      "Instructions for updating:\n",
      "Please use `rate` instead of `keep_prob`. Rate should be set to `rate = 1 - keep_prob`.\n",
      "W0810 00:20:48.390159 10588 deprecation_wrapper.py:119] From c:\\users\\shinigami shrek\\appdata\\local\\programs\\python\\python36\\lib\\site-packages\\keras\\optimizers.py:790: The name tf.train.Optimizer is deprecated. Please use tf.compat.v1.train.Optimizer instead.\n",
      "\n"
     ]
    }
   ],
   "source": [
    "\n",
    "model = VGG16()\n",
    "\n",
    "model.compile(optimizer = RMSprop(lr=1e-6), loss='mean_squared_error', metrics = ['accuracy'])\n"
   ]
  },
  {
   "cell_type": "code",
   "execution_count": 12,
   "metadata": {},
   "outputs": [
    {
     "name": "stdout",
     "output_type": "stream",
     "text": [
      "_________________________________________________________________\n",
      "Layer (type)                 Output Shape              Param #   \n",
      "=================================================================\n",
      "lambda_1 (Lambda)            (None, 106, 106, 3)       0         \n",
      "_________________________________________________________________\n",
      "zero_padding2d_1 (ZeroPaddin (None, 108, 108, 3)       0         \n",
      "_________________________________________________________________\n",
      "conv2d_1 (Conv2D)            (None, 106, 106, 64)      1792      \n",
      "_________________________________________________________________\n",
      "zero_padding2d_2 (ZeroPaddin (None, 108, 108, 64)      0         \n",
      "_________________________________________________________________\n",
      "conv2d_2 (Conv2D)            (None, 106, 106, 64)      36928     \n",
      "_________________________________________________________________\n",
      "max_pooling2d_1 (MaxPooling2 (None, 53, 53, 64)        0         \n",
      "_________________________________________________________________\n",
      "zero_padding2d_3 (ZeroPaddin (None, 55, 55, 64)        0         \n",
      "_________________________________________________________________\n",
      "conv2d_3 (Conv2D)            (None, 53, 53, 128)       73856     \n",
      "_________________________________________________________________\n",
      "zero_padding2d_4 (ZeroPaddin (None, 55, 55, 128)       0         \n",
      "_________________________________________________________________\n",
      "conv2d_4 (Conv2D)            (None, 53, 53, 128)       147584    \n",
      "_________________________________________________________________\n",
      "max_pooling2d_2 (MaxPooling2 (None, 26, 26, 128)       0         \n",
      "_________________________________________________________________\n",
      "zero_padding2d_5 (ZeroPaddin (None, 28, 28, 128)       0         \n",
      "_________________________________________________________________\n",
      "conv2d_5 (Conv2D)            (None, 26, 26, 256)       295168    \n",
      "_________________________________________________________________\n",
      "zero_padding2d_6 (ZeroPaddin (None, 28, 28, 256)       0         \n",
      "_________________________________________________________________\n",
      "conv2d_6 (Conv2D)            (None, 26, 26, 256)       590080    \n",
      "_________________________________________________________________\n",
      "zero_padding2d_7 (ZeroPaddin (None, 28, 28, 256)       0         \n",
      "_________________________________________________________________\n",
      "conv2d_7 (Conv2D)            (None, 26, 26, 256)       590080    \n",
      "_________________________________________________________________\n",
      "max_pooling2d_3 (MaxPooling2 (None, 13, 13, 256)       0         \n",
      "_________________________________________________________________\n",
      "zero_padding2d_8 (ZeroPaddin (None, 15, 15, 256)       0         \n",
      "_________________________________________________________________\n",
      "conv2d_8 (Conv2D)            (None, 13, 13, 512)       1180160   \n",
      "_________________________________________________________________\n",
      "zero_padding2d_9 (ZeroPaddin (None, 15, 15, 512)       0         \n",
      "_________________________________________________________________\n",
      "conv2d_9 (Conv2D)            (None, 13, 13, 512)       2359808   \n",
      "_________________________________________________________________\n",
      "zero_padding2d_10 (ZeroPaddi (None, 15, 15, 512)       0         \n",
      "_________________________________________________________________\n",
      "conv2d_10 (Conv2D)           (None, 13, 13, 512)       2359808   \n",
      "_________________________________________________________________\n",
      "max_pooling2d_4 (MaxPooling2 (None, 6, 6, 512)         0         \n",
      "_________________________________________________________________\n",
      "zero_padding2d_11 (ZeroPaddi (None, 8, 8, 512)         0         \n",
      "_________________________________________________________________\n",
      "conv2d_11 (Conv2D)           (None, 6, 6, 512)         2359808   \n",
      "_________________________________________________________________\n",
      "zero_padding2d_12 (ZeroPaddi (None, 8, 8, 512)         0         \n",
      "_________________________________________________________________\n",
      "conv2d_12 (Conv2D)           (None, 6, 6, 512)         2359808   \n",
      "_________________________________________________________________\n",
      "zero_padding2d_13 (ZeroPaddi (None, 8, 8, 512)         0         \n",
      "_________________________________________________________________\n",
      "conv2d_13 (Conv2D)           (None, 6, 6, 512)         2359808   \n",
      "_________________________________________________________________\n",
      "max_pooling2d_5 (MaxPooling2 (None, 3, 3, 512)         0         \n",
      "_________________________________________________________________\n",
      "flatten_1 (Flatten)          (None, 4608)              0         \n",
      "_________________________________________________________________\n",
      "dense_1 (Dense)              (None, 4096)              18878464  \n",
      "_________________________________________________________________\n",
      "dropout_1 (Dropout)          (None, 4096)              0         \n",
      "_________________________________________________________________\n",
      "dense_2 (Dense)              (None, 4096)              16781312  \n",
      "_________________________________________________________________\n",
      "dropout_2 (Dropout)          (None, 4096)              0         \n",
      "_________________________________________________________________\n",
      "dense_3 (Dense)              (None, 37)                151589    \n",
      "_________________________________________________________________\n",
      "activation_1 (Activation)    (None, 37)                0         \n",
      "=================================================================\n",
      "Total params: 50,526,053\n",
      "Trainable params: 50,526,053\n",
      "Non-trainable params: 0\n",
      "_________________________________________________________________\n"
     ]
    }
   ],
   "source": [
    "model.summary()"
   ]
  },
  {
   "cell_type": "code",
   "execution_count": 13,
   "metadata": {},
   "outputs": [],
   "source": [
    "batch_size = 64\n",
    "\n",
    "steps_per_batch = int(len(os.listdir(train_path))/batch_size)\n",
    "val_steps_per_batch = int(len(os.listdir(validate_path))/batch_size)"
   ]
  },
  {
   "cell_type": "code",
   "execution_count": 14,
   "metadata": {},
   "outputs": [
    {
     "name": "stderr",
     "output_type": "stream",
     "text": [
      "W0810 00:20:58.823415 10588 deprecation_wrapper.py:119] From c:\\users\\shinigami shrek\\appdata\\local\\programs\\python\\python36\\lib\\site-packages\\keras\\backend\\tensorflow_backend.py:986: The name tf.assign_add is deprecated. Please use tf.compat.v1.assign_add instead.\n",
      "\n"
     ]
    },
    {
     "name": "stdout",
     "output_type": "stream",
     "text": [
      "Epoch 1/50\n",
      "962/962 [==============================] - 504s 524ms/step - loss: 0.0629 - acc: 0.5000 - val_loss: 0.0333 - val_acc: 0.5356\n",
      "Epoch 2/50\n",
      "962/962 [==============================] - 507s 528ms/step - loss: 0.0369 - acc: 0.5333 - val_loss: 0.0284 - val_acc: 0.6318\n",
      "Epoch 3/50\n",
      "962/962 [==============================] - 504s 524ms/step - loss: 0.0333 - acc: 0.5499 - val_loss: 0.0276 - val_acc: 0.6025\n",
      "Epoch 4/50\n",
      "962/962 [==============================] - 505s 525ms/step - loss: 0.0318 - acc: 0.5759 - val_loss: 0.0284 - val_acc: 0.5816\n",
      "Epoch 5/50\n",
      "962/962 [==============================] - 491s 510ms/step - loss: 0.0301 - acc: 0.5811 - val_loss: 0.0268 - val_acc: 0.5523\n",
      "Epoch 6/50\n",
      "962/962 [==============================] - 477s 496ms/step - loss: 0.0303 - acc: 0.5811 - val_loss: 0.0266 - val_acc: 0.5732\n",
      "Epoch 7/50\n",
      "962/962 [==============================] - 501s 521ms/step - loss: 0.0289 - acc: 0.5936 - val_loss: 0.0228 - val_acc: 0.6653\n",
      "Epoch 8/50\n",
      "962/962 [==============================] - 498s 518ms/step - loss: 0.0282 - acc: 0.5821 - val_loss: 0.0260 - val_acc: 0.5439\n",
      "Epoch 9/50\n",
      "962/962 [==============================] - 512s 533ms/step - loss: 0.0273 - acc: 0.5738 - val_loss: 0.0263 - val_acc: 0.5858\n",
      "Epoch 10/50\n",
      "962/962 [==============================] - 522s 543ms/step - loss: 0.0268 - acc: 0.5686 - val_loss: 0.0225 - val_acc: 0.6234\n",
      "Epoch 11/50\n",
      "962/962 [==============================] - 524s 544ms/step - loss: 0.0258 - acc: 0.5884 - val_loss: 0.0249 - val_acc: 0.5523\n",
      "Epoch 12/50\n",
      "962/962 [==============================] - 545s 567ms/step - loss: 0.0259 - acc: 0.5759 - val_loss: 0.0232 - val_acc: 0.6485\n",
      "Epoch 13/50\n",
      "962/962 [==============================] - 535s 556ms/step - loss: 0.0253 - acc: 0.5468 - val_loss: 0.0230 - val_acc: 0.6234\n",
      "Epoch 14/50\n",
      "962/962 [==============================] - 525s 546ms/step - loss: 0.0251 - acc: 0.5852 - val_loss: 0.0221 - val_acc: 0.5983\n",
      "Epoch 15/50\n",
      "962/962 [==============================] - 521s 541ms/step - loss: 0.0247 - acc: 0.5582 - val_loss: 0.0215 - val_acc: 0.6402\n",
      "Epoch 16/50\n",
      "962/962 [==============================] - 477s 496ms/step - loss: 0.0235 - acc: 0.5936 - val_loss: 0.0215 - val_acc: 0.6444\n",
      "Epoch 17/50\n",
      "962/962 [==============================] - 465s 483ms/step - loss: 0.0251 - acc: 0.5468 - val_loss: 0.0222 - val_acc: 0.6109\n",
      "Epoch 18/50\n",
      "962/962 [==============================] - 465s 484ms/step - loss: 0.0247 - acc: 0.5832 - val_loss: 0.0208 - val_acc: 0.6569\n",
      "Epoch 19/50\n",
      "962/962 [==============================] - 465s 483ms/step - loss: 0.0247 - acc: 0.5748 - val_loss: 0.0233 - val_acc: 0.6151\n",
      "Epoch 20/50\n",
      "962/962 [==============================] - 465s 483ms/step - loss: 0.0232 - acc: 0.5936 - val_loss: 0.0201 - val_acc: 0.6736\n",
      "Epoch 21/50\n",
      "962/962 [==============================] - 465s 484ms/step - loss: 0.0236 - acc: 0.5509 - val_loss: 0.0208 - val_acc: 0.6025\n",
      "Epoch 22/50\n",
      "962/962 [==============================] - 465s 483ms/step - loss: 0.0231 - acc: 0.5686 - val_loss: 0.0203 - val_acc: 0.6736\n",
      "Epoch 23/50\n",
      "962/962 [==============================] - 465s 483ms/step - loss: 0.0232 - acc: 0.5624 - val_loss: 0.0198 - val_acc: 0.6402\n",
      "Epoch 24/50\n",
      "962/962 [==============================] - 465s 484ms/step - loss: 0.0222 - acc: 0.5977 - val_loss: 0.0226 - val_acc: 0.5983\n",
      "Epoch 25/50\n",
      "962/962 [==============================] - 465s 483ms/step - loss: 0.0226 - acc: 0.5593 - val_loss: 0.0222 - val_acc: 0.6527\n",
      "Epoch 26/50\n",
      "962/962 [==============================] - 468s 487ms/step - loss: 0.0224 - acc: 0.5904 - val_loss: 0.0194 - val_acc: 0.5649\n",
      "Epoch 27/50\n",
      "962/962 [==============================] - 473s 492ms/step - loss: 0.0221 - acc: 0.5551 - val_loss: 0.0204 - val_acc: 0.6485\n",
      "Epoch 28/50\n",
      "962/962 [==============================] - 466s 485ms/step - loss: 0.0215 - acc: 0.5884 - val_loss: 0.0209 - val_acc: 0.6904\n",
      "Epoch 29/50\n",
      "962/962 [==============================] - 464s 483ms/step - loss: 0.0208 - acc: 0.5759 - val_loss: 0.0207 - val_acc: 0.5774\n",
      "Epoch 30/50\n",
      "962/962 [==============================] - 465s 484ms/step - loss: 0.0227 - acc: 0.5863 - val_loss: 0.0187 - val_acc: 0.6611\n",
      "Epoch 31/50\n",
      "962/962 [==============================] - 465s 483ms/step - loss: 0.0225 - acc: 0.5603 - val_loss: 0.0193 - val_acc: 0.6276\n",
      "Epoch 32/50\n",
      "962/962 [==============================] - 465s 483ms/step - loss: 0.0211 - acc: 0.5655 - val_loss: 0.0182 - val_acc: 0.6067\n",
      "Epoch 33/50\n",
      "962/962 [==============================] - 465s 484ms/step - loss: 0.0211 - acc: 0.5707 - val_loss: 0.0194 - val_acc: 0.6192\n",
      "Epoch 34/50\n",
      "962/962 [==============================] - 465s 483ms/step - loss: 0.0210 - acc: 0.5644 - val_loss: 0.0202 - val_acc: 0.6234\n",
      "Epoch 35/50\n",
      "962/962 [==============================] - 465s 484ms/step - loss: 0.0203 - acc: 0.5925 - val_loss: 0.0186 - val_acc: 0.6276\n",
      "Epoch 36/50\n",
      "962/962 [==============================] - 466s 484ms/step - loss: 0.0206 - acc: 0.5707 - val_loss: 0.0196 - val_acc: 0.5774\n",
      "Epoch 37/50\n",
      "962/962 [==============================] - 465s 484ms/step - loss: 0.0206 - acc: 0.5551 - val_loss: 0.0211 - val_acc: 0.5314\n",
      "Epoch 38/50\n",
      "962/962 [==============================] - 465s 484ms/step - loss: 0.0199 - acc: 0.5561 - val_loss: 0.0178 - val_acc: 0.6444\n",
      "Epoch 39/50\n",
      "962/962 [==============================] - 466s 485ms/step - loss: 0.0201 - acc: 0.5665 - val_loss: 0.0198 - val_acc: 0.5439\n",
      "Epoch 40/50\n",
      "962/962 [==============================] - 466s 484ms/step - loss: 0.0206 - acc: 0.5977 - val_loss: 0.0189 - val_acc: 0.6192\n",
      "Epoch 41/50\n",
      "962/962 [==============================] - 466s 484ms/step - loss: 0.0205 - acc: 0.6050 - val_loss: 0.0188 - val_acc: 0.5900\n",
      "Epoch 42/50\n",
      "962/962 [==============================] - 466s 484ms/step - loss: 0.0208 - acc: 0.5748 - val_loss: 0.0181 - val_acc: 0.6318\n",
      "Epoch 43/50\n",
      "962/962 [==============================] - 466s 484ms/step - loss: 0.0195 - acc: 0.6019 - val_loss: 0.0176 - val_acc: 0.5941\n",
      "Epoch 44/50\n",
      "962/962 [==============================] - 465s 483ms/step - loss: 0.0197 - acc: 0.5696 - val_loss: 0.0169 - val_acc: 0.5900\n",
      "Epoch 45/50\n",
      "962/962 [==============================] - 465s 483ms/step - loss: 0.0191 - acc: 0.6071 - val_loss: 0.0184 - val_acc: 0.5565\n",
      "Epoch 46/50\n",
      "962/962 [==============================] - 465s 484ms/step - loss: 0.0197 - acc: 0.5821 - val_loss: 0.0164 - val_acc: 0.6109\n",
      "Epoch 47/50\n",
      "962/962 [==============================] - 467s 486ms/step - loss: 0.0196 - acc: 0.5832 - val_loss: 0.0188 - val_acc: 0.5481\n",
      "Epoch 48/50\n",
      "962/962 [==============================] - 465s 484ms/step - loss: 0.0189 - acc: 0.5707 - val_loss: 0.0186 - val_acc: 0.5816\n",
      "Epoch 49/50\n",
      "962/962 [==============================] - 465s 484ms/step - loss: 0.0194 - acc: 0.5582 - val_loss: 0.0217 - val_acc: 0.5858\n",
      "Epoch 50/50\n",
      "962/962 [==============================] - 465s 484ms/step - loss: 0.0193 - acc: 0.5821 - val_loss: 0.0165 - val_acc: 0.6904\n"
     ]
    },
    {
     "data": {
      "text/plain": [
       "<keras.callbacks.History at 0x25f7b08c198>"
      ]
     },
     "execution_count": 14,
     "metadata": {},
     "output_type": "execute_result"
    }
   ],
   "source": [
    "model.fit_generator(Batch_generator(train_path),\n",
    "                    samples_per_epoch=steps_per_batch,\n",
    "                    epochs = 50,\n",
    "                    validation_data=Validation_generator(validate_path),\n",
    "                    nb_val_samples=val_steps_per_batch,\n",
    "                    verbose = 1\n",
    "                   )"
   ]
  },
  {
   "cell_type": "code",
   "execution_count": 15,
   "metadata": {},
   "outputs": [],
   "source": [
    "model.save(\"10081029.model\")"
   ]
  },
  {
   "cell_type": "code",
   "execution_count": null,
   "metadata": {},
   "outputs": [],
   "source": []
  }
 ],
 "metadata": {
  "kernelspec": {
   "display_name": "Python 3",
   "language": "python",
   "name": "python3"
  },
  "language_info": {
   "codemirror_mode": {
    "name": "ipython",
    "version": 3
   },
   "file_extension": ".py",
   "mimetype": "text/x-python",
   "name": "python",
   "nbconvert_exporter": "python",
   "pygments_lexer": "ipython3",
   "version": "3.6.8"
  }
 },
 "nbformat": 4,
 "nbformat_minor": 2
}
